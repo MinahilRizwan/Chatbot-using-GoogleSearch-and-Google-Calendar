{
  "nbformat": 4,
  "nbformat_minor": 0,
  "metadata": {
    "colab": {
      "provenance": []
    },
    "kernelspec": {
      "name": "python3",
      "display_name": "Python 3"
    },
    "language_info": {
      "name": "python"
    }
  },
  "cells": [
    {
      "cell_type": "code",
      "execution_count": null,
      "metadata": {
        "id": "FitoZBJhV50M"
      },
      "outputs": [],
      "source": [
        "pip install langchain langgraph google-api-python-client google-auth-httplib2 google-auth-oauthlib\n"
      ]
    },
    {
      "cell_type": "code",
      "source": [
        "!pip install --quiet langchain langgraph langchain_community openai google-api-python-client google-auth google-auth-oauthlib\n"
      ],
      "metadata": {
        "id": "RmUyn5NBXkFx"
      },
      "execution_count": null,
      "outputs": []
    },
    {
      "cell_type": "code",
      "source": [
        "from google.colab import files\n",
        "uploaded = files.upload()  # Upload your token.json here\n"
      ],
      "metadata": {
        "id": "S1-S3e8QXTm_"
      },
      "execution_count": null,
      "outputs": []
    },
    {
      "cell_type": "code",
      "source": [
        "!pip install -U langchain-google-community\n"
      ],
      "metadata": {
        "id": "C2kiyneWZTMu"
      },
      "execution_count": null,
      "outputs": []
    },
    {
      "cell_type": "code",
      "source": [
        "!pip install -U langchain-google-community --upgrade\n",
        "from langchain_google_community import GoogleSearchAPIWrapper\n",
        "from langchain.tools import Tool\n",
        "\n",
        "import os\n",
        "\n",
        "# Replace with your actual values\n",
        "os.environ[\"GOOGLE_CSE_ID\"] = \"CSE-ID-HERE\"\n",
        "os.environ[\"GOOGLE_API_KEY\"] = \"Your-API key-HERE\"\n",
        "search = GoogleSearchAPIWrapper()\n",
        "search_tool = Tool(\n",
        "    name=\"google_search\",\n",
        "    description=\"Search Google for recent results.\",\n",
        "    func=search.run,\n",
        ")"
      ],
      "metadata": {
        "id": "5DfBy_bpZVRH"
      },
      "execution_count": null,
      "outputs": []
    },
    {
      "cell_type": "code",
      "source": [
        "# Install the necessary library for Google Generative AI\n",
        "!pip install -U langchain-google-genai\n"
      ],
      "metadata": {
        "id": "AWDOpEmpbVRn"
      },
      "execution_count": null,
      "outputs": []
    },
    {
      "cell_type": "code",
      "source": [
        "from langchain_google_genai import ChatGoogleGenerativeAI\n",
        "from langchain_google_community import GoogleSearchAPIWrapper, GoogleSearchRun  # Correct import for newer version\n",
        "from langgraph.graph import StateGraph\n",
        "from typing import TypedDict, Literal, Union\n",
        "from langchain.tools import tool\n",
        "from googleapiclient.discovery import build\n",
        "from google.oauth2 import service_account\n",
        "import os\n",
        "\n",
        "# Assuming GOOGLE_CSE_ID and GOOGLE_API_KEY are set elsewhere or defined here\n",
        "# Replace with your actual values if not already set\n",
        "os.environ[\"GOOGLE_CSE_ID\"] = \"CSE-ID-Here\"\n",
        "os.environ[\"GOOGLE_API_KEY\"] = \"Your-API key-Here\"\n",
        "\n",
        "# === Google Search Tool ===\n",
        "# Ensure that the environment variables are properly set\n",
        "search_wrapper = GoogleSearchAPIWrapper()  # This works with the newer 'langchain-google-community'\n",
        "search_tool = GoogleSearchRun(api_wrapper=search_wrapper)  # Now passing the wrapper correctly\n",
        "\n",
        "# === Google Calendar Tool (Custom) ===\n",
        "# Use service account credentials for backend authentication\n",
        "SERVICE_ACCOUNT_FILE = 'inbound-dahlia-459707-m5-ed416da1fa41.json'\n",
        "SCOPES = ['https://www.googleapis.com/auth/calendar']\n",
        "\n",
        "# Authenticate using service account\n",
        "creds = service_account.Credentials.from_service_account_file(\n",
        "    SERVICE_ACCOUNT_FILE, scopes=SCOPES\n",
        ")\n",
        "calendar_service = build('calendar', 'v3', credentials=creds)\n",
        "\n",
        "@tool\n",
        "def calendar_tool(query: str) -> str:\n",
        "    \"\"\"Creates a calendar event.\"\"\" # Added a docstring here\n",
        "    # This is a placeholder; you'll need to parse the query to create dynamic events\n",
        "    # based on the 'query' input. For now, it creates a fixed event as before.\n",
        "    event = {\n",
        "        'summary': 'Test Event',\n",
        "        'start': {'dateTime': '2025-05-15T10:00:00+05:00'},\n",
        "        'end': {'dateTime': '2025-05-15T11:00:00+05:00'},\n",
        "    }\n",
        "    try:\n",
        "        created_event = calendar_service.events().insert(calendarId='primary', body=event).execute()\n",
        "        return f\"Calendar event created: {created_event.get('htmlLink')}\"\n",
        "    except Exception as e:\n",
        "        return f\"Error creating calendar event: {e}\"\n",
        "\n",
        "# === Chat State ===\n",
        "class ChatState(TypedDict):\n",
        "    query: str\n",
        "    tool_choice: Literal[\"search\", \"calendar\", \"chat\"]\n",
        "    result: Union[str, None]\n",
        "\n",
        "# === Language Model ===\n",
        "# Use ChatGoogleGenerativeAI with the appropriate Gemini model\n",
        "llm = ChatGoogleGenerativeAI(model=\"gemini-2.0-flash\", temperature=0)\n",
        "\n",
        "# === Router ===\n",
        "def route_tool(state: ChatState) -> ChatState:\n",
        "    prompt = f\"\"\"You are a smart router. Classify the user query into one of the following:\n",
        "    1. 'search' for web queries (e.g., 'Who won the match yesterday?')\n",
        "    2. 'calendar' for events (e.g., 'Create a meeting tomorrow at 5 PM')\n",
        "    3. 'chat' for general AI conversation\n",
        "\n",
        "    Query: \"{state['query']}\"\n",
        "    Answer with one word only: search, calendar, or chat.\n",
        "    \"\"\"\n",
        "    # Use .invoke() with ChatGoogleGenerativeAI\n",
        "    decision = llm.invoke(prompt).content.strip().lower()\n",
        "    return {\"query\": state[\"query\"], \"tool_choice\": decision, \"result\": None}\n",
        "\n",
        "# === Tool Nodes ===\n",
        "def use_search(state: ChatState) -> ChatState:\n",
        "    print(\"Routing to Search...\") # Added for debugging\n",
        "    result = search_tool.run(state[\"query\"])\n",
        "    return {\"query\": state[\"query\"], \"tool_choice\": \"search\", \"result\": result}\n",
        "\n",
        "def use_calendar(state: ChatState) -> ChatState:\n",
        "    print(\"Routing to Calendar...\") # Added for debugging\n",
        "    # Note: Your calendar_tool currently ignores the query and creates a fixed event.\n",
        "    # You would need to add logic here to parse the query and create a dynamic event.\n",
        "    result = calendar_tool.invoke(state[\"query\"])\n",
        "    return {\"query\": state[\"query\"], \"tool_choice\": \"calendar\", \"result\": result}\n",
        "\n",
        "def chat_response(state: ChatState) -> ChatState:\n",
        "    print(\"Routing to Chat...\") # Added for debugging\n",
        "    # Use .invoke() with ChatGoogleGenerativeAI\n",
        "    result = llm.invoke(state[\"query\"]).content\n",
        "    return {\"query\": state[\"query\"], \"tool_choice\": \"chat\", \"result\": result}\n",
        "\n",
        "# === LangGraph ===\n",
        "graph_builder = StateGraph(ChatState)\n",
        "graph_builder.set_entry_point(\"router\")\n",
        "\n",
        "graph_builder.add_node(\"router\", route_tool)\n",
        "graph_builder.add_node(\"search\", use_search)\n",
        "graph_builder.add_node(\"calendar\", use_calendar)\n",
        "graph_builder.add_node(\"chat\", chat_response)\n",
        "graph_builder.add_node(\"end\", lambda x: x)\n",
        "\n",
        "graph_builder.add_conditional_edges(\n",
        "    \"router\",\n",
        "    lambda state: state[\"tool_choice\"],\n",
        "    {\n",
        "        \"search\": \"search\",\n",
        "        \"calendar\": \"calendar\",\n",
        "        \"chat\": \"chat\"\n",
        "    }\n",
        ")\n",
        "\n",
        "graph_builder.add_edge(\"search\", \"end\")\n",
        "graph_builder.add_edge(\"calendar\", \"end\")\n",
        "graph_builder.add_edge(\"chat\", \"end\")\n",
        "\n",
        "graph = graph_builder.compile()\n",
        "\n",
        "# === Chat Interface ===\n",
        "def chatbot_interface(user_input):\n",
        "    # Initial state before routing\n",
        "    state = {\"query\": user_input, \"tool_choice\": \"chat\", \"result\": None} # 'chat' is a default, router will change it\n",
        "    result = graph.invoke(state)\n",
        "    return result[\"result\"]\n",
        "\n",
        "# === Interactive Loop ===\n",
        "print(\"Chatbot started! Type 'quit' to exit.\")\n",
        "while True:\n",
        "    user_input = input(\"You: \")\n",
        "    if user_input.lower() == 'quit':\n",
        "        break\n",
        "    response = chatbot_interface(user_input)\n",
        "    print(f\"Bot: {response}\")"
      ],
      "metadata": {
        "id": "nWaCNyeqZEDY"
      },
      "execution_count": null,
      "outputs": []
    }
  ]
}